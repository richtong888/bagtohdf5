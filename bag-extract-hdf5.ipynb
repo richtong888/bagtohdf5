{
 "cells": [
  {
   "cell_type": "code",
   "execution_count": 16,
   "metadata": {},
   "outputs": [],
   "source": [
    "import sys\n",
    "import rosbag\n",
    "import time\n",
    "import rospy\n",
    "import os\n",
    "import argparse\n",
    "import math\n",
    "import re\n",
    "import h5py\n",
    "import numpy as np\n",
    "import ros_numpy\n",
    "import matplotlib.pyplot as plt\n",
    "from sensor_msgs.msg import Image, PointCloud2, PointField, JointState\n",
    "from cv_bridge import CvBridge, CvBridgeError\n",
    "from tqdm import tqdm, trange"
   ]
  },
  {
   "cell_type": "markdown",
   "metadata": {},
   "source": [
    "## user define\n",
    "- frame rate\n",
    "- chunck length\n",
    "- bags directory\n",
    "- output file path/name\n",
    "- topics need to transfer\n",
    "- reference\n",
    "    - https://support.hdfgroup.org/HDF5/doc/Advanced/Chunking/\n",
    "    - http://docs.h5py.org/en/stable/high/dataset.html"
   ]
  },
  {
   "cell_type": "code",
   "execution_count": 17,
   "metadata": {},
   "outputs": [],
   "source": [
    "frame_rate = 30  # Hz\n",
    "chunck_len = 100  # number of frames in .hdf5 file\n",
    "#bags_dir = '/home/richtong/bag-extract-hdf5/bag'\n",
    "bags_dir = '/home/argsubt/0804hdf5/bag/'\n",
    "#output_file_prefix = '/home/richtong/bag-extract-hdf5/out'\n",
    "output_file_prefix = '/home/argsubt/0804hdf5/out/'\n",
    "\n",
    "topic_list = {\n",
    "    #'/husky2/velodyne1/velodyne_points': 'lidar',\n",
    "    #'/husky2/camera_left/color/image_raw': 'left_image',\n",
    "    #'/husky2/camera_middle/color/image_raw': 'middle_image',\n",
    "    #'/husky2/camera_right/color/image_raw': 'right_image',\n",
    "    #'/husky2/camera_left/aligned_depth_to_color/image_raw': 'left_depth',\n",
    "    #'/husky2/camera_middle/aligned_depth_to_color/image_raw': 'middle_depth',\n",
    "    #'/husky2/camera_right/aligned_depth_to_color/image_raw': 'right_depth',\n",
    "    #'/wx200/joint_states': 'robot_arm',\n",
    "    '/camera/aligned_depth_to_color/image_raw':'depth_img',\n",
    "    '/camera/color/image_raw':'img'\n",
    "}\n",
    "\n",
    "#info for meta\n",
    "vehicle = 'locobot'\n",
    "place = 'ED-B1'\n",
    "date_time = '07/21-19:58'"
   ]
  },
  {
   "cell_type": "markdown",
   "metadata": {},
   "source": [
    "## user define \n",
    "msg to numpy array\n",
    "\n",
    "ros_numpy : https://github.com/eric-wieser/ros_numpy\n",
    "\n",
    "- image (width,height,channel)\n",
    "- point cloud (xyz, number_of_points)"
   ]
  },
  {
   "cell_type": "code",
   "execution_count": 18,
   "metadata": {},
   "outputs": [],
   "source": [
    "def msg_to_np(topic,msg):\n",
    "    data = None\n",
    "    if topic == '/husky2/velodyne1/velodyne_points':\n",
    "        data_tmp = ros_numpy.point_cloud2.pointcloud2_to_xyz_array(\n",
    "            msg)\n",
    "        # swapaxis (3,points_number)\n",
    "        data_tmp = np.swapaxes(data_tmp, 1, 0)\n",
    "        data = []\n",
    "        for i in range(data_tmp.shape[0]):\n",
    "            data.append(np.array(data_tmp[i]))\n",
    "\n",
    "    elif topic == '/husky2/camera_left/color/image_raw':\n",
    "        data = ros_numpy.image.image_to_numpy(msg)\n",
    "\n",
    "    elif topic == '/husky2/camera_middle/color/image_raw':\n",
    "        data = ros_numpy.image.image_to_numpy(msg)\n",
    "\n",
    "    elif topic == '/husky2/camera_right/color/image_raw':\n",
    "        data = ros_numpy.image.image_to_numpy(msg)\n",
    "\n",
    "    elif topic == '/husky2/camera_left/aligned_depth_to_color/image_raw':\n",
    "        data = ros_numpy.image.image_to_numpy(msg)\n",
    "\n",
    "    elif topic == '/husky2/camera_middle/aligned_depth_to_color/image_raw':\n",
    "        data = ros_numpy.image.image_to_numpy(msg)\n",
    "\n",
    "    elif topic == '/husky2/camera_right/aligned_depth_to_color/image_raw':\n",
    "        data = ros_numpy.image.image_to_numpy(msg)\n",
    "    elif topic == '/wx200/joint_states':\n",
    "        cur_pos_arr = np.zeros( (8, 1) )\n",
    "        data = np.zeros( (8, 1) )\n",
    "        for i in range(0, len(msg.position)):\n",
    "            cur_pos_arr[i, 0] = msg.position[i]\n",
    "            print(cur_pos_arr[i, 0])\n",
    "        data = np.append(data, cur_pos_arr, axis = 1)\n",
    "    elif topic == '/camera/color/image_raw':\n",
    "        data = ros_numpy.image.image_to_numpy(msg)\n",
    "    elif topic == '/camera/aligned_depth_to_color/image_raw':\n",
    "        data = ros_numpy.image.image_to_numpy(msg)\n",
    "    \n",
    "    return data"
   ]
  },
  {
   "cell_type": "markdown",
   "metadata": {},
   "source": [
    "## add dataset\n",
    "    lidar has unknown length data\n",
    "    need to use special_dtype"
   ]
  },
  {
   "cell_type": "code",
   "execution_count": 19,
   "metadata": {},
   "outputs": [],
   "source": [
    "def add_dataset(f, key, data, chunck_len):\n",
    "    if key == 'lidar':\n",
    "        dt = h5py.special_dtype(vlen=np.dtype('float32'))\n",
    "        shape = (chunck_len, 3)\n",
    "        max_shape = (None, 3)\n",
    "    else:\n",
    "        dt = data.dtype\n",
    "        shape = (chunck_len,) + data.shape\n",
    "        max_shape = (None,) + data.shape\n",
    "\n",
    "    return f.create_dataset(key, shape=shape,\n",
    "                        maxshape=max_shape, dtype=dt, chunks=True)"
   ]
  },
  {
   "cell_type": "code",
   "execution_count": 20,
   "metadata": {},
   "outputs": [],
   "source": [
    "def add_meta(f):\n",
    "    meta = f.create_group('metadata')\n",
    "    meta.attrs['vehicle'] = vehicle\n",
    "    meta.attrs['place'] = 'ED-B1'\n",
    "    meta.attrs['date_time'] = date_time\n",
    "    meta.attrs['frame_rate'] = frame_rate\n",
    "    meta.attrs['trajectory_length'] = chunck_len\n",
    "    for i,(key,value) in enumerate(topic_list.items()):\n",
    "        meta.attrs[value] = key"
   ]
  },
  {
   "cell_type": "markdown",
   "metadata": {},
   "source": [
    "## start process bags\n",
    "rosbag : http://wiki.ros.org/rosbag/Code%20API"
   ]
  },
  {
   "cell_type": "code",
   "execution_count": 21,
   "metadata": {},
   "outputs": [
    {
     "name": "stderr",
     "output_type": "stream",
     "text": [
      "frame:8, drop:0 , bag:hcc_lab9.bag:   0%|          | 0/1 [00:00<?, ?it/s]"
     ]
    },
    {
     "name": "stdout",
     "output_type": "stream",
     "text": [
      "hcc_lab9.bag\n"
     ]
    },
    {
     "name": "stderr",
     "output_type": "stream",
     "text": [
      "frame:274, drop:0 , bag:hcc_lab9.bag: 100%|██████████| 1/1 [00:04<00:00,  4.83s/it]\n"
     ]
    },
    {
     "name": "stdout",
     "output_type": "stream",
     "text": [
      "finish\n"
     ]
    }
   ],
   "source": [
    "bags = os.listdir(bags_dir)[::-1]\n",
    "bags.sort()\n",
    "b = None\n",
    "frame = 0\n",
    "step = 0\n",
    "epi = 0\n",
    "tp = None\n",
    "dropped_frame = 0\n",
    "mark, report = {}, {}\n",
    "for value in topic_list.values():\n",
    "    mark.update({value:0})\n",
    "    report.update({value:[]})\n",
    "\n",
    "f = h5py.File(output_file_prefix+\"_%03d.hdf5\"%epi, 'w')\n",
    "add_meta(f)\n",
    "\n",
    "pbar = tqdm(bags)\n",
    "\n",
    "for bag_name in pbar:\n",
    "    print(bag_name)\n",
    "    b = rosbag.Bag(bags_dir+'/'+bag_name)\n",
    "    for topic, msg, t in b.read_messages(topic_list.keys()):\n",
    "        if tp is None:\n",
    "            tp = t\n",
    "        else:\n",
    "            if not topic_list[topic] in f.keys():\n",
    "                # create dataset\n",
    "                data = msg_to_np(topic,msg)\n",
    "                dset = add_dataset(f,topic_list[topic],data,chunck_len)\n",
    "\n",
    "            f[topic_list[topic]][step] = msg_to_np(topic,msg)\n",
    "            mark[topic_list[topic]] = 1\n",
    "            \n",
    "            # cut frame ------------------------------------------------------------------\n",
    "            if (t-tp).to_sec() > 1./frame_rate:\n",
    "                tp = t\n",
    "                drop = False\n",
    "                frame += 1\n",
    "                # if there is one msg missing in this frame\n",
    "                # drop this frame\n",
    "                for i, (key, value) in enumerate(mark.items()):\n",
    "                    report[key].append(value)\n",
    "                    if value is 0:\n",
    "                        drop = True\n",
    "                        dropped_frame += 1\n",
    "                    mark[key] = 0\n",
    "\n",
    "                pbar.set_description(\"frame:%d, drop:%d , bag:%s\"%(frame,dropped_frame,bag_name))\n",
    "                if not drop:\n",
    "                    step += 1\n",
    "                    if step == chunck_len:\n",
    "                        step = 0\n",
    "                        epi += 1\n",
    "                        f.close()\n",
    "                        del f\n",
    "                        f = h5py.File(output_file_prefix+\"_%03d.hdf5\"%epi, 'w')\n",
    "                        add_meta(f)\n",
    "                    # end if\n",
    "               # end if\n",
    "            # end if\n",
    "        # end if\n",
    "    # end for\n",
    "    b.close()\n",
    "    del b\n",
    "f.close()\n",
    "print 'finish'"
   ]
  },
  {
   "cell_type": "markdown",
   "metadata": {},
   "source": [
    "## status report\n",
    "    show the dropped frame numbers"
   ]
  },
  {
   "cell_type": "code",
   "execution_count": 22,
   "metadata": {
    "scrolled": false
   },
   "outputs": [
    {
     "data": {
      "image/png": "[encoded data removed]",
      "text/plain": [
       "<Figure size 432x288 with 1 Axes>"
      ]
     },
     "metadata": {
      "needs_background": "light"
     },
     "output_type": "display_data"
    },
    {
     "data": {
      "image/png": "[encoded data removed]",
      "text/plain": [
       "<Figure size 432x288 with 1 Axes>"
      ]
     },
     "metadata": {
      "needs_background": "light"
     },
     "output_type": "display_data"
    },
    {
     "data": {
      "image/png": "[encoded data removed]",
      "text/plain": [
       "<Figure size 432x288 with 1 Axes>"
      ]
     },
     "metadata": {
      "needs_background": "light"
     },
     "output_type": "display_data"
    }
   ],
   "source": [
    "stat = []\n",
    "for i, (key, value) in enumerate(report.items()):\n",
    "    stat.append(value)\n",
    "    plt.title(key)\n",
    "    plt.plot(value)\n",
    "    plt.show()\n",
    "total = np.sum(stat,axis=0)\n",
    "plt.title('total')\n",
    "plt.plot(total)\n",
    "plt.show()"
   ]
  },
  {
   "cell_type": "code",
   "execution_count": null,
   "metadata": {},
   "outputs": [],
   "source": []
  }
 ],
 "metadata": {
  "kernelspec": {
   "display_name": "Python 2",
   "language": "python",
   "name": "python2"
  },
  "language_info": {
   "codemirror_mode": {
    "name": "ipython",
    "version": 2
   },
   "file_extension": ".py",
   "mimetype": "text/x-python",
   "name": "python",
   "nbconvert_exporter": "python",
   "pygments_lexer": "ipython2",
   "version": "2.7.17"
  }
 },
 "nbformat": 4,
 "nbformat_minor": 2
}
