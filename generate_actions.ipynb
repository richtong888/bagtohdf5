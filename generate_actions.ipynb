{
 "cells": [
  {
   "cell_type": "code",
   "execution_count": 13,
   "metadata": {},
   "outputs": [],
   "source": [
    "import sys\n",
    "import rosbag\n",
    "import time\n",
    "import rospy\n",
    "import os\n",
    "import argparse\n",
    "import math\n",
    "import re\n",
    "import h5py\n",
    "import numpy as np\n",
    "import ros_numpy\n",
    "import matplotlib.pyplot as plt\n",
    "import tensorflow as tf\n",
    "from sensor_msgs.msg import Image, PointCloud2, PointField\n",
    "import open3d as o3d\n",
    "from tqdm import tqdm, trange"
   ]
  },
  {
   "cell_type": "markdown",
   "metadata": {},
   "source": [
    "## user define"
   ]
  },
  {
   "cell_type": "code",
   "execution_count": 14,
   "metadata": {
    "scrolled": true
   },
   "outputs": [],
   "source": [
    "folder = '/home/richtong/bag-extract-hdf5/hdf5ifle/'\n",
    "files = os.listdir(folder)[::-1]\n",
    "files.sort()\n",
    "\n",
    "visualize = False"
   ]
  },
  {
   "cell_type": "code",
   "execution_count": 15,
   "metadata": {},
   "outputs": [],
   "source": [
    "class RunRDPGModel(object):\n",
    "    def __init__(self):\n",
    "\n",
    "        model = 'subt_rl495.ckpt-1037'\n",
    "        output_name = 'Actor/eval/action_out:0'\n",
    "        input_name = 's:0'\n",
    "        state_name0 = 'Actor/eval/LSTMCellZeroState/zeros:0'\n",
    "        state_name1 = 'Actor/eval/LSTMCellZeroState/zeros_1:0'\n",
    "        out_name0 = 'Actor/eval/rnn/while/Exit_3:0'\n",
    "        out_name1 = 'Actor/eval/rnn/while/Exit_4:0'\n",
    "        \n",
    "        # my_dir = os.path.abspath(os.path.dirname(os.getcwd()))\n",
    "        my_dir = '/home/richtong/bag-extract-hdf5/'\n",
    "        input_checkpoint = os.path.join(my_dir, \"./model/rdpg/\" + model)\n",
    "\n",
    "        saver = tf.train.import_meta_graph(input_checkpoint + '.meta', clear_devices=True)\n",
    "        \n",
    "        graph = tf.get_default_graph()\n",
    "        config = tf.ConfigProto()\n",
    "        config.gpu_options.allow_growth = True\n",
    "        self.sess = tf.Session(config=config)\n",
    "        saver.restore(self.sess, input_checkpoint)\n",
    "\n",
    "        ##########  get tensor ##########\n",
    "        self.input_s = graph.get_tensor_by_name(input_name)\n",
    "        self.output_a = graph.get_tensor_by_name(output_name)\n",
    "\n",
    "        lstm_state0 = graph.get_tensor_by_name(state_name0)\n",
    "        lstm_state1 = graph.get_tensor_by_name(state_name1)\n",
    "        self.lstm_state_in = (lstm_state0, lstm_state1)\n",
    "        \n",
    "        out_state0 = graph.get_tensor_by_name(out_name0)\n",
    "        out_state1 = graph.get_tensor_by_name(out_name1)\n",
    "        self.lstm_state_out = (out_name0, out_name1)\n",
    "\n",
    "        self.hidden_state = (np.zeros([1,128]),np.zeros([1,128]))\n",
    "        ##########  get tensor ##########\n",
    "\n",
    "        self.action_bound ={'linear': 0.35, 'angular': 0.3}\n",
    "\n",
    "    def scale(self, n, bound):\n",
    "        return max(min(n, 1), -1)*bound\n",
    "\n",
    "    def get_action(self, laser):\n",
    "        laser = laser[np.newaxis, :]  # batch size\n",
    "        actions, self.hidden_state = self.sess.run([self.output_a, self.lstm_state_out], {\n",
    "                                        self.input_s: laser, self.lstm_state_in: self.hidden_state})\n",
    "        action_out = actions[0]\n",
    "\n",
    "        action_out[0] = self.scale(\n",
    "            action_out[0], self.action_bound['linear'])\n",
    "        action_out[1] = self.scale(\n",
    "            action_out[1], self.action_bound['angular'])\n",
    "        \n",
    "        return action_out\n",
    "\n",
    "    def shutdown(self):\n",
    "        self.sess.close()\n"
   ]
  },
  {
   "cell_type": "code",
   "execution_count": 16,
   "metadata": {},
   "outputs": [],
   "source": [
    "max_dis = 5\n",
    "min_angle = math.radians(-120)\n",
    "max_angle = math.radians(120)\n",
    "angle_incre = math.radians(0.9999)\n",
    "\n",
    "\n",
    "def pc_to_laser(lidar):\n",
    "    \n",
    "    start_a = min_angle\n",
    "    end_a = start_a + angle_incre\n",
    "    \n",
    "    angles = np.zeros(lidar.shape[0])\n",
    "    for i, p in enumerate(lidar):\n",
    "        angles[i] = math.atan2(p[1],p[0])\n",
    "\n",
    "    laser = []\n",
    "    while start_a < max_angle:\n",
    "        bundle = lidar[np.where((angles>start_a) & (angles<end_a))][:,:-1]\n",
    "        if len(bundle)==0:\n",
    "            d = max_dis\n",
    "        else:\n",
    "            bundle = np.linalg.norm(bundle,axis=1)\n",
    "            d = np.min(bundle)\n",
    "            d = max_dis if d>max_dis else d\n",
    "        laser.append(d)\n",
    "        start_a += angle_incre\n",
    "        end_a += angle_incre\n",
    "\n",
    "    laser = np.array(laser)\n",
    "    return laser\n"
   ]
  },
  {
   "cell_type": "code",
   "execution_count": 17,
   "metadata": {
    "scrolled": false
   },
   "outputs": [
    {
     "ename": "AttributeError",
     "evalue": "'module' object has no attribute 'import_meta_graph'",
     "output_type": "error",
     "traceback": [
      "\u001b[0;31m---------------------------------------------------------------------------\u001b[0m",
      "\u001b[0;31mAttributeError\u001b[0m                            Traceback (most recent call last)",
      "\u001b[0;32m<ipython-input-17-0ffb29d3ef60>\u001b[0m in \u001b[0;36m<module>\u001b[0;34m()\u001b[0m\n\u001b[0;32m----> 1\u001b[0;31m \u001b[0mmodel\u001b[0m \u001b[0;34m=\u001b[0m \u001b[0mRunRDPGModel\u001b[0m\u001b[0;34m(\u001b[0m\u001b[0;34m)\u001b[0m\u001b[0;34m\u001b[0m\u001b[0m\n\u001b[0m\u001b[1;32m      2\u001b[0m \u001b[0;34m\u001b[0m\u001b[0m\n\u001b[1;32m      3\u001b[0m \u001b[0mpcd\u001b[0m \u001b[0;34m=\u001b[0m \u001b[0mo3d\u001b[0m\u001b[0;34m.\u001b[0m\u001b[0mgeometry\u001b[0m\u001b[0;34m.\u001b[0m\u001b[0mPointCloud\u001b[0m\u001b[0;34m(\u001b[0m\u001b[0;34m)\u001b[0m\u001b[0;34m\u001b[0m\u001b[0m\n\u001b[1;32m      4\u001b[0m \u001b[0mpcd_l\u001b[0m \u001b[0;34m=\u001b[0m \u001b[0mo3d\u001b[0m\u001b[0;34m.\u001b[0m\u001b[0mgeometry\u001b[0m\u001b[0;34m.\u001b[0m\u001b[0mPointCloud\u001b[0m\u001b[0;34m(\u001b[0m\u001b[0;34m)\u001b[0m\u001b[0;34m\u001b[0m\u001b[0m\n\u001b[1;32m      5\u001b[0m \u001b[0mvis\u001b[0m \u001b[0;34m=\u001b[0m \u001b[0mo3d\u001b[0m\u001b[0;34m.\u001b[0m\u001b[0mvisualization\u001b[0m\u001b[0;34m.\u001b[0m\u001b[0mVisualizer\u001b[0m\u001b[0;34m(\u001b[0m\u001b[0;34m)\u001b[0m\u001b[0;34m\u001b[0m\u001b[0m\n",
      "\u001b[0;32m<ipython-input-15-d7d7cbcdd41a>\u001b[0m in \u001b[0;36m__init__\u001b[0;34m(self)\u001b[0m\n\u001b[1;32m     14\u001b[0m         \u001b[0minput_checkpoint\u001b[0m \u001b[0;34m=\u001b[0m \u001b[0mos\u001b[0m\u001b[0;34m.\u001b[0m\u001b[0mpath\u001b[0m\u001b[0;34m.\u001b[0m\u001b[0mjoin\u001b[0m\u001b[0;34m(\u001b[0m\u001b[0mmy_dir\u001b[0m\u001b[0;34m,\u001b[0m \u001b[0;34m\"./model/rdpg/\"\u001b[0m \u001b[0;34m+\u001b[0m \u001b[0mmodel\u001b[0m\u001b[0;34m)\u001b[0m\u001b[0;34m\u001b[0m\u001b[0m\n\u001b[1;32m     15\u001b[0m \u001b[0;34m\u001b[0m\u001b[0m\n\u001b[0;32m---> 16\u001b[0;31m         \u001b[0msaver\u001b[0m \u001b[0;34m=\u001b[0m \u001b[0mtf\u001b[0m\u001b[0;34m.\u001b[0m\u001b[0mtrain\u001b[0m\u001b[0;34m.\u001b[0m\u001b[0mimport_meta_graph\u001b[0m\u001b[0;34m(\u001b[0m\u001b[0minput_checkpoint\u001b[0m \u001b[0;34m+\u001b[0m \u001b[0;34m'.meta'\u001b[0m\u001b[0;34m,\u001b[0m \u001b[0mclear_devices\u001b[0m\u001b[0;34m=\u001b[0m\u001b[0mTrue\u001b[0m\u001b[0;34m)\u001b[0m\u001b[0;34m\u001b[0m\u001b[0m\n\u001b[0m\u001b[1;32m     17\u001b[0m \u001b[0;34m\u001b[0m\u001b[0m\n\u001b[1;32m     18\u001b[0m         \u001b[0mgraph\u001b[0m \u001b[0;34m=\u001b[0m \u001b[0mtf\u001b[0m\u001b[0;34m.\u001b[0m\u001b[0mget_default_graph\u001b[0m\u001b[0;34m(\u001b[0m\u001b[0;34m)\u001b[0m\u001b[0;34m\u001b[0m\u001b[0m\n",
      "\u001b[0;31mAttributeError\u001b[0m: 'module' object has no attribute 'import_meta_graph'"
     ]
    }
   ],
   "source": [
    "model = RunRDPGModel()\n",
    "\n",
    "pcd = o3d.geometry.PointCloud()\n",
    "pcd_l = o3d.geometry.PointCloud()\n",
    "vis = o3d.visualization.Visualizer()\n",
    "\n",
    "if visualize:\n",
    "    vis.create_window()\n",
    "    vis.add_geometry(pcd)\n",
    "    \n",
    "t_files = tqdm(files)\n",
    "\n",
    "for fname in t_files:\n",
    "    f = h5py.File(folder+\"/\"+fname, 'r+')\n",
    "    f.create_dataset('action', shape=(f['lidar'][:].shape[0],2), maxshape=(None, 2), dtype=np.float16, chunks=True)\n",
    "        \n",
    "    for i,lidar in enumerate(f['lidar'][:]) :\n",
    "        lidar = np.vstack(lidar)\n",
    "        lidar = np.swapaxes(lidar, 1, 0)\n",
    "        max_z = np.max(lidar[:,-1])\n",
    "        min_z = np.min(lidar[:,-1])\n",
    "        \n",
    "        lidar = lidar[np.where(lidar[:,-1] > -0.3)]\n",
    "        lidar = lidar[np.where(lidar[:,-1] < 1)]\n",
    "        \n",
    "        laser = pc_to_laser(lidar)\n",
    "        action = model.get_action(laser)\n",
    "        f['action'][i] = action\n",
    "        t_files.set_description('action: %.3f, %.3f'%(action[0],action[1]))\n",
    "        \n",
    "        if visualize:\n",
    "            pcd.points = o3d.utility.Vector3dVector(lidar)\n",
    "            vis.add_geometry(pcd)\n",
    "            vis.poll_events()\n",
    "            vis.update_renderer()\n",
    "            vis.remove_geometry(pcd)\n",
    "            vis.remove_geometry(pcd_l)\n",
    "    \n",
    "    f.close()\n",
    "    del f\n",
    "\n",
    "model.shutdown()\n",
    "if visualize:\n",
    "    vis.destroy_window()"
   ]
  },
  {
   "cell_type": "code",
   "execution_count": null,
   "metadata": {},
   "outputs": [],
   "source": []
  }
 ],
 "metadata": {
  "kernelspec": {
   "display_name": "Python 2",
   "language": "python",
   "name": "python2"
  },
  "language_info": {
   "codemirror_mode": {
    "name": "ipython",
    "version": 2
   },
   "file_extension": ".py",
   "mimetype": "text/x-python",
   "name": "python",
   "nbconvert_exporter": "python",
   "pygments_lexer": "ipython2",
   "version": "2.7.17"
  }
 },
 "nbformat": 4,
 "nbformat_minor": 2
}
